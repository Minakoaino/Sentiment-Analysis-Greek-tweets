{
 "cells": [
  {
   "cell_type": "code",
   "execution_count": 1,
   "id": "c4d1ed62",
   "metadata": {},
   "outputs": [],
   "source": [
    "import tweepy\n",
    "from tweepy.streaming import StreamListener\n",
    "from tweepy import OAuthHandler\n",
    "from tweepy import Stream\n",
    "import datetime\n",
    "import csv\n",
    "import pandas as pd"
   ]
  },
  {
   "cell_type": "code",
   "execution_count": 2,
   "id": "205c2824",
   "metadata": {},
   "outputs": [],
   "source": [
    "consumer_key = 'zRLze0lH2AKxY1bkVqpXfuhDZ'\n",
    "consumer_secret = 'hAbqGAiTjwvTVBdUX0MMdl7Eqcb5eQPPY5jwx4SkGj07I4hGaD'\n",
    "access_token = '1397618616653209602-3LUD2QVsxS5xjznEcTQJ6545G2lUko'\n",
    "access_token_secret = 'DALjzoSMrU71FoULD4VOYN46yCtl9c1xsKghGtQGPvNxa'\n",
    "\n",
    "auth = tweepy.OAuthHandler(consumer_key, consumer_secret)\n",
    "auth.set_access_token(access_token, access_token_secret)\n",
    "api = tweepy.API(auth)"
   ]
  },
  {
   "cell_type": "code",
   "execution_count": 3,
   "id": "686dad03",
   "metadata": {},
   "outputs": [],
   "source": [
    "class MyStreamListener(tweepy.StreamListener):\n",
    "    def on_status(self,status):\n",
    "        if hasattr(status, \"retweeted_status\"):\n",
    "            try:\n",
    "                current_status = str(status.retweeted_status.extended_tweet[\"full_text\"])\n",
    "                current_status = current_status.replace('\\n', ' ').replace('\\r', '')\n",
    "                print(current_status)\n",
    "                \n",
    "            except AttributeError:\n",
    "                current_status = str(status.retweeted_status.text)\n",
    "                current_status = current_status.replace('\\n', ' ').replace('\\r', '')\n",
    "                print(current_status)\n",
    "        \n",
    "        else:\n",
    "            try:\n",
    "                current_status = str(status.extended_tweet[\"full_text\"])\n",
    "                current_status = current_status.replace('\\n', ' ').replace('\\r', '')\n",
    "                print(current_status)\n",
    "            \n",
    "            except AttributeError:\n",
    "                current_status = str(status.text)\n",
    "                current_status = current_status.replace('\\n', ' ').replace('\\r', '')\n",
    "                print('Gathering tweets for hashtag - ', current_status)\n",
    "\n",
    "\n",
    "                           \n",
    "            csvw.writerow([status.id,\n",
    "                           status.user.screen_name,\n",
    "                           # created_at is a datetime object, converting to just grab the month/day/year\n",
    "                           status.created_at.strftime('%m/%d/%y'),\n",
    "                           status.favorite_count,\n",
    "                           status.user.followers_count,\n",
    "                           status.source,\n",
    "                           status.user.location,\n",
    "                           current_status])\n",
    "            \n",
    "    \n",
    "    def on_error(self,status_code):\n",
    "        if status_code == 420:\n",
    "            print('You have been rate-limited for making too many requests')\n",
    "            return False"
   ]
  },
  {
   "cell_type": "code",
   "execution_count": null,
   "id": "35bddddd",
   "metadata": {
    "scrolled": true
   },
   "outputs": [
    {
     "name": "stdout",
     "output_type": "stream",
     "text": [
      "«η κατάσταση θα εξελιχθεί δραματικά στο νησί το επόμενο διάστημα. Η Κρήτη θα ζήσει ό,τι βίωσε η Ιταλία στο πρώτο κύμα της πανδημίας» #ΕΜΒΟΛΙΑΣΜΟΙ #Εμβολιο #εμβολια #εμβολιασμος https://t.co/8SbsLp5YCM\n"
     ]
    }
   ],
   "source": [
    "if __name__ == '__main__':\n",
    "\n",
    "    # This handles Twitter authetification and the connection to Twitter Streaming API\n",
    "    l = MyStreamListener()\n",
    "    auth = OAuthHandler(consumer_key, consumer_secret)\n",
    "    auth.set_access_token(access_token, access_token_secret)\n",
    "    stream = tweepy.Stream(auth, l)\n",
    "\n",
    "    # Filter based on listed items\n",
    "    csvw = csv.writer(open(\"5augoust\", \"a\"))\n",
    "    csvw.writerow(['twitter_id', 'name', 'created_at',\n",
    "                   'followers_count', 'source', 'region', 'text'])\n",
    "    stream.filter(track=['εμβολιο','εμβόλιο', 'εμβολιασμος', 'αντιεμβολιαστες', 'αντιεμβολιαστές', '#ανεμβολιαστοι'])"
   ]
  },
  {
   "cell_type": "code",
   "execution_count": null,
   "id": "9e321814",
   "metadata": {},
   "outputs": [],
   "source": []
  }
 ],
 "metadata": {
  "kernelspec": {
   "display_name": "Python 3 (ipykernel)",
   "language": "python",
   "name": "python3"
  },
  "language_info": {
   "codemirror_mode": {
    "name": "ipython",
    "version": 3
   },
   "file_extension": ".py",
   "mimetype": "text/x-python",
   "name": "python",
   "nbconvert_exporter": "python",
   "pygments_lexer": "ipython3",
   "version": "3.8.10"
  }
 },
 "nbformat": 4,
 "nbformat_minor": 5
}
