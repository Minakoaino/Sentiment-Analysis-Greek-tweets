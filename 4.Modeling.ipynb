{
 "cells": [
  {
   "cell_type": "code",
   "execution_count": 1,
   "id": "5bc5f537",
   "metadata": {},
   "outputs": [],
   "source": [
    "import pandas as pd\n",
    "import matplotlib.pyplot as plt\n",
    "import seaborn as sns\n",
    "import pickle\n",
    "\n",
    "from sklearn.feature_extraction.text import TfidfVectorizer\n",
    "from sklearn.model_selection import train_test_split\n",
    "from sklearn.svm import LinearSVC\n",
    "from sklearn.metrics import classification_report\n",
    "from sklearn.metrics import accuracy_score, confusion_matrix, precision_recall_fscore_support\n",
    "from nltk.tokenize import RegexpTokenizer\n",
    "\n",
    "pd.set_option('display.max_colwidth', 1)\n",
    "pd.set_option('display.max_columns', 500)"
   ]
  },
  {
   "cell_type": "code",
   "execution_count": 2,
   "id": "05d362ae",
   "metadata": {},
   "outputs": [],
   "source": [
    "df = pd.read_csv('data/sentiment_analysis_data.csv')"
   ]
  },
  {
   "cell_type": "code",
   "execution_count": 3,
   "id": "d6ff4825",
   "metadata": {},
   "outputs": [
    {
     "data": {
      "text/html": [
       "<div>\n",
       "<style scoped>\n",
       "    .dataframe tbody tr th:only-of-type {\n",
       "        vertical-align: middle;\n",
       "    }\n",
       "\n",
       "    .dataframe tbody tr th {\n",
       "        vertical-align: top;\n",
       "    }\n",
       "\n",
       "    .dataframe thead th {\n",
       "        text-align: right;\n",
       "    }\n",
       "</style>\n",
       "<table border=\"1\" class=\"dataframe\">\n",
       "  <thead>\n",
       "    <tr style=\"text-align: right;\">\n",
       "      <th></th>\n",
       "      <th>Username</th>\n",
       "      <th>Date</th>\n",
       "      <th>Followers</th>\n",
       "      <th>label</th>\n",
       "      <th>Tweet</th>\n",
       "      <th>Tweet_without_stopwords</th>\n",
       "    </tr>\n",
       "  </thead>\n",
       "  <tbody>\n",
       "    <tr>\n",
       "      <th>0</th>\n",
       "      <td>kour_evgenia</td>\n",
       "      <td>07/14/21</td>\n",
       "      <td>226</td>\n",
       "      <td>negative</td>\n",
       "      <td>κοινη λογικη λεει επιβεβαιωνεις υπαρχει θες νησι παιρνεις αποφαση αλλαξεις</td>\n",
       "      <td>κοινη λογικη λεει επιβεβαιωνεις  υπαρχει θες  νησι παιρνεις  αποφαση αλλαξεις</td>\n",
       "    </tr>\n",
       "    <tr>\n",
       "      <th>1</th>\n",
       "      <td>1024102410</td>\n",
       "      <td>07/14/21</td>\n",
       "      <td>955</td>\n",
       "      <td>neutral</td>\n",
       "      <td>κορωνοιο χαρακτηριστικα χαραγματος μεσω</td>\n",
       "      <td>κορωνοιο χαρακτηριστικα χαραγματος  μεσω</td>\n",
       "    </tr>\n",
       "    <tr>\n",
       "      <th>2</th>\n",
       "      <td>PapacharAlkis</td>\n",
       "      <td>07/14/21</td>\n",
       "      <td>454</td>\n",
       "      <td>negative</td>\n",
       "      <td>κυριε ελεησον θελουν θελουν καμνουν τεστ γραφουν αδεια ας κατσουν σπιτι πληρωνει κρατος καλο συνταγματικο</td>\n",
       "      <td>κυριε ελεησον θελουν θελουν καμνουν τεστ γραφουν αδεια ας  κατσουν σπιτι πληρωνει κρατος  καλο συνταγματικο</td>\n",
       "    </tr>\n",
       "    <tr>\n",
       "      <th>3</th>\n",
       "      <td>5Za9vyNjymD32b4</td>\n",
       "      <td>07/14/21</td>\n",
       "      <td>20</td>\n",
       "      <td>neutral</td>\n",
       "      <td>εμβολιασμος σεισμος διαλεξε</td>\n",
       "      <td>εμβολιασμος  σεισμος  διαλεξε</td>\n",
       "    </tr>\n",
       "    <tr>\n",
       "      <th>4</th>\n",
       "      <td>Vickytax1</td>\n",
       "      <td>07/14/21</td>\n",
       "      <td>1798</td>\n",
       "      <td>negative</td>\n",
       "      <td>👇 ακριβως  κομψα  εκπεφρασμενο μπινελικια χρειαζονται εμβολιασμος</td>\n",
       "      <td>👇 ακριβως κομψα  εκπεφρασμενο μπινελικια χρειαζονται εμβολιασμος</td>\n",
       "    </tr>\n",
       "  </tbody>\n",
       "</table>\n",
       "</div>"
      ],
      "text/plain": [
       "          Username      Date  Followers     label  \\\n",
       "0  kour_evgenia     07/14/21  226        negative   \n",
       "1  1024102410       07/14/21  955        neutral    \n",
       "2  PapacharAlkis    07/14/21  454        negative   \n",
       "3  5Za9vyNjymD32b4  07/14/21  20         neutral    \n",
       "4  Vickytax1        07/14/21  1798       negative   \n",
       "\n",
       "                                                                                                       Tweet  \\\n",
       "0  κοινη λογικη λεει επιβεβαιωνεις υπαρχει θες νησι παιρνεις αποφαση αλλαξεις                                  \n",
       "1  κορωνοιο χαρακτηριστικα χαραγματος μεσω                                                                     \n",
       "2  κυριε ελεησον θελουν θελουν καμνουν τεστ γραφουν αδεια ας κατσουν σπιτι πληρωνει κρατος καλο συνταγματικο   \n",
       "3  εμβολιασμος σεισμος διαλεξε                                                                                 \n",
       "4  👇 ακριβως  κομψα  εκπεφρασμενο μπινελικια χρειαζονται εμβολιασμος                                           \n",
       "\n",
       "                                                                                       Tweet_without_stopwords  \n",
       "0  κοινη λογικη λεει επιβεβαιωνεις  υπαρχει θες  νησι παιρνεις  αποφαση αλλαξεις                                \n",
       "1  κορωνοιο χαρακτηριστικα χαραγματος  μεσω                                                                     \n",
       "2  κυριε ελεησον θελουν θελουν καμνουν τεστ γραφουν αδεια ας  κατσουν σπιτι πληρωνει κρατος  καλο συνταγματικο  \n",
       "3  εμβολιασμος  σεισμος  διαλεξε                                                                                \n",
       "4  👇 ακριβως κομψα  εκπεφρασμενο μπινελικια χρειαζονται εμβολιασμος                                             "
      ]
     },
     "execution_count": 3,
     "metadata": {},
     "output_type": "execute_result"
    }
   ],
   "source": [
    "df.head()"
   ]
  },
  {
   "cell_type": "code",
   "execution_count": 4,
   "id": "1e2331d8",
   "metadata": {},
   "outputs": [
    {
     "data": {
      "text/html": [
       "<div>\n",
       "<style scoped>\n",
       "    .dataframe tbody tr th:only-of-type {\n",
       "        vertical-align: middle;\n",
       "    }\n",
       "\n",
       "    .dataframe tbody tr th {\n",
       "        vertical-align: top;\n",
       "    }\n",
       "\n",
       "    .dataframe thead th {\n",
       "        text-align: right;\n",
       "    }\n",
       "</style>\n",
       "<table border=\"1\" class=\"dataframe\">\n",
       "  <thead>\n",
       "    <tr style=\"text-align: right;\">\n",
       "      <th></th>\n",
       "      <th>Username</th>\n",
       "      <th>Date</th>\n",
       "      <th>Followers</th>\n",
       "      <th>label</th>\n",
       "      <th>Tweet</th>\n",
       "      <th>Tweet_without_stopwords</th>\n",
       "    </tr>\n",
       "  </thead>\n",
       "  <tbody>\n",
       "    <tr>\n",
       "      <th>0</th>\n",
       "      <td>kour_evgenia</td>\n",
       "      <td>07/14/21</td>\n",
       "      <td>226</td>\n",
       "      <td>negative</td>\n",
       "      <td>κοινη λογικη λεει επιβεβαιωνεις υπαρχει θες νησι παιρνεις αποφαση αλλαξεις</td>\n",
       "      <td>κοινη λογικη λεει επιβεβαιωνεις  υπαρχει θες  νησι παιρνεις  αποφαση αλλαξεις</td>\n",
       "    </tr>\n",
       "    <tr>\n",
       "      <th>2</th>\n",
       "      <td>PapacharAlkis</td>\n",
       "      <td>07/14/21</td>\n",
       "      <td>454</td>\n",
       "      <td>negative</td>\n",
       "      <td>κυριε ελεησον θελουν θελουν καμνουν τεστ γραφουν αδεια ας κατσουν σπιτι πληρωνει κρατος καλο συνταγματικο</td>\n",
       "      <td>κυριε ελεησον θελουν θελουν καμνουν τεστ γραφουν αδεια ας  κατσουν σπιτι πληρωνει κρατος  καλο συνταγματικο</td>\n",
       "    </tr>\n",
       "    <tr>\n",
       "      <th>4</th>\n",
       "      <td>Vickytax1</td>\n",
       "      <td>07/14/21</td>\n",
       "      <td>1798</td>\n",
       "      <td>negative</td>\n",
       "      <td>👇 ακριβως  κομψα  εκπεφρασμενο μπινελικια χρειαζονται εμβολιασμος</td>\n",
       "      <td>👇 ακριβως κομψα  εκπεφρασμενο μπινελικια χρειαζονται εμβολιασμος</td>\n",
       "    </tr>\n",
       "    <tr>\n",
       "      <th>7</th>\n",
       "      <td>VradiniGr</td>\n",
       "      <td>07/14/21</td>\n",
       "      <td>1021</td>\n",
       "      <td>negative</td>\n",
       "      <td>βουλευτης συριζα ειπε κορωνοιου βρισκεται σταδιο προσωρινης αδειας</td>\n",
       "      <td>βουλευτης  συριζα ειπε κορωνοιου βρισκεται σταδιο προσωρινης  αδειας</td>\n",
       "    </tr>\n",
       "    <tr>\n",
       "      <th>10</th>\n",
       "      <td>Screeech2021</td>\n",
       "      <td>07/14/21</td>\n",
       "      <td>49</td>\n",
       "      <td>negative</td>\n",
       "      <td>μιας φερε κουβεντα πω αρνητες παπαρια εμβολιαστειτε οχι παιδια κανετε γουσταρετε χαρα συμφερει παγκοσμια πολιτικη μαφια ψοφησει μακροπροθεσμα εσας λιγοτεροι προβληματικοι πλανητη εμβολιασμος</td>\n",
       "      <td>μιας  φερε κουβεντα πω αρνητες  παπαρια εμβολιαστειτε οχι παιδια κανετε γουσταρετε χαρα συμφερει παγκοσμια πολιτικη μαφια ψοφησει μακροπροθεσμα εσας  λιγοτεροι προβληματικοι πλανητη εμβολιασμος</td>\n",
       "    </tr>\n",
       "  </tbody>\n",
       "</table>\n",
       "</div>"
      ],
      "text/plain": [
       "         Username      Date  Followers     label  \\\n",
       "0   kour_evgenia   07/14/21  226        negative   \n",
       "2   PapacharAlkis  07/14/21  454        negative   \n",
       "4   Vickytax1      07/14/21  1798       negative   \n",
       "7   VradiniGr      07/14/21  1021       negative   \n",
       "10  Screeech2021   07/14/21  49         negative   \n",
       "\n",
       "                                                                                                                                                                                             Tweet  \\\n",
       "0   κοινη λογικη λεει επιβεβαιωνεις υπαρχει θες νησι παιρνεις αποφαση αλλαξεις                                                                                                                       \n",
       "2   κυριε ελεησον θελουν θελουν καμνουν τεστ γραφουν αδεια ας κατσουν σπιτι πληρωνει κρατος καλο συνταγματικο                                                                                        \n",
       "4   👇 ακριβως  κομψα  εκπεφρασμενο μπινελικια χρειαζονται εμβολιασμος                                                                                                                                \n",
       "7   βουλευτης συριζα ειπε κορωνοιου βρισκεται σταδιο προσωρινης αδειας                                                                                                                               \n",
       "10  μιας φερε κουβεντα πω αρνητες παπαρια εμβολιαστειτε οχι παιδια κανετε γουσταρετε χαρα συμφερει παγκοσμια πολιτικη μαφια ψοφησει μακροπροθεσμα εσας λιγοτεροι προβληματικοι πλανητη εμβολιασμος   \n",
       "\n",
       "                                                                                                                                                                               Tweet_without_stopwords  \n",
       "0   κοινη λογικη λεει επιβεβαιωνεις  υπαρχει θες  νησι παιρνεις  αποφαση αλλαξεις                                                                                                                       \n",
       "2   κυριε ελεησον θελουν θελουν καμνουν τεστ γραφουν αδεια ας  κατσουν σπιτι πληρωνει κρατος  καλο συνταγματικο                                                                                         \n",
       "4   👇 ακριβως κομψα  εκπεφρασμενο μπινελικια χρειαζονται εμβολιασμος                                                                                                                                    \n",
       "7   βουλευτης  συριζα ειπε κορωνοιου βρισκεται σταδιο προσωρινης  αδειας                                                                                                                                \n",
       "10  μιας  φερε κουβεντα πω αρνητες  παπαρια εμβολιαστειτε οχι παιδια κανετε γουσταρετε χαρα συμφερει παγκοσμια πολιτικη μαφια ψοφησει μακροπροθεσμα εσας  λιγοτεροι προβληματικοι πλανητη εμβολιασμος   "
      ]
     },
     "execution_count": 4,
     "metadata": {},
     "output_type": "execute_result"
    }
   ],
   "source": [
    "df[df['label'] == 'negative'].head()"
   ]
  },
  {
   "cell_type": "code",
   "execution_count": 5,
   "id": "bfdd2217",
   "metadata": {},
   "outputs": [
    {
     "data": {
      "text/plain": [
       "negative    36.031049\n",
       "neutral     33.007696\n",
       "positive    30.961254\n",
       "Name: label, dtype: float64"
      ]
     },
     "execution_count": 5,
     "metadata": {},
     "output_type": "execute_result"
    }
   ],
   "source": [
    "df['label'].value_counts(normalize=True) * 100"
   ]
  },
  {
   "cell_type": "code",
   "execution_count": 6,
   "id": "2f5d72a5",
   "metadata": {},
   "outputs": [],
   "source": [
    "df.dropna(inplace = True)"
   ]
  },
  {
   "cell_type": "code",
   "execution_count": 7,
   "id": "a996b30d",
   "metadata": {},
   "outputs": [
    {
     "data": {
      "image/png": "[encoded data removed]",
      "text/plain": [
       "<Figure size 432x288 with 1 Axes>"
      ]
     },
     "metadata": {
      "needs_background": "light"
     },
     "output_type": "display_data"
    }
   ],
   "source": [
    "sns.countplot(data=df, x = 'label');"
   ]
  },
  {
   "cell_type": "code",
   "execution_count": 8,
   "id": "c17dd249",
   "metadata": {},
   "outputs": [],
   "source": [
    "from sklearn.feature_selection import SelectKBest, chi2\n",
    "from sklearn.model_selection import cross_val_score"
   ]
  },
  {
   "cell_type": "code",
   "execution_count": 9,
   "id": "7fa12f89",
   "metadata": {},
   "outputs": [],
   "source": [
    "tfidf = TfidfVectorizer(max_features=45000)\n",
    "X = df['Tweet_without_stopwords']\n",
    "y = df['label']\n",
    "\n",
    "X = tfidf.fit_transform(df['Tweet_without_stopwords'].values.astype('U'))  "
   ]
  },
  {
   "cell_type": "code",
   "execution_count": 10,
   "id": "6fbcfd57",
   "metadata": {},
   "outputs": [
    {
     "data": {
      "text/plain": [
       "TfidfVectorizer(max_features=45000)"
      ]
     },
     "execution_count": 10,
     "metadata": {},
     "output_type": "execute_result"
    }
   ],
   "source": [
    "tfidf"
   ]
  },
  {
   "cell_type": "code",
   "execution_count": 11,
   "id": "ebc109ec",
   "metadata": {},
   "outputs": [],
   "source": [
    "X_train, X_test, y_train, y_test = train_test_split(X, y, test_size = 0.20,  shuffle = True, random_state = 10)"
   ]
  },
  {
   "cell_type": "markdown",
   "id": "1a390a60",
   "metadata": {},
   "source": [
    "### Support vector machines"
   ]
  },
  {
   "cell_type": "code",
   "execution_count": 12,
   "id": "2e5dd605",
   "metadata": {},
   "outputs": [
    {
     "data": {
      "text/plain": [
       "LinearSVC(max_iter=40000)"
      ]
     },
     "execution_count": 12,
     "metadata": {},
     "output_type": "execute_result"
    }
   ],
   "source": [
    "svm = LinearSVC(max_iter=40000)\n",
    "svm.fit(X_train, y_train)"
   ]
  },
  {
   "cell_type": "code",
   "execution_count": 13,
   "id": "28ba3de4",
   "metadata": {},
   "outputs": [],
   "source": [
    "y_pred = svm.predict(X_test)"
   ]
  },
  {
   "cell_type": "code",
   "execution_count": 14,
   "id": "1477a618",
   "metadata": {},
   "outputs": [
    {
     "data": {
      "text/plain": [
       "0.7857536663358694"
      ]
     },
     "execution_count": 14,
     "metadata": {},
     "output_type": "execute_result"
    }
   ],
   "source": [
    "accuracy_score(y_test, y_pred, normalize=True)"
   ]
  },
  {
   "cell_type": "code",
   "execution_count": 15,
   "id": "14bca39f",
   "metadata": {
    "scrolled": true
   },
   "outputs": [
    {
     "name": "stdout",
     "output_type": "stream",
     "text": [
      "              precision    recall  f1-score   support\n",
      "\n",
      "    negative       0.79      0.78      0.79      3265\n",
      "     neutral       0.78      0.84      0.81      2992\n",
      "    positive       0.79      0.73      0.76      2812\n",
      "\n",
      "    accuracy                           0.79      9069\n",
      "   macro avg       0.79      0.78      0.78      9069\n",
      "weighted avg       0.79      0.79      0.79      9069\n",
      "\n"
     ]
    }
   ],
   "source": [
    "print(classification_report(y_test, y_pred))"
   ]
  },
  {
   "cell_type": "code",
   "execution_count": 16,
   "id": "2146e440",
   "metadata": {},
   "outputs": [
    {
     "name": "stdout",
     "output_type": "stream",
     "text": [
      "Η πρόταση είναι : ['positive']\n"
     ]
    }
   ],
   "source": [
    "sample = [\"ΤΕΛΕΙΑ ΜΕΡΑ ΣΗΜΕΡΑ\"]\n",
    "sample = tfidf.transform(sample).toarray()\n",
    "sentiment = svm.predict(sample)\n",
    "print('Η πρόταση είναι',\":\",sentiment)"
   ]
  },
  {
   "cell_type": "code",
   "execution_count": 17,
   "id": "9d4e6ca5",
   "metadata": {},
   "outputs": [
    {
     "data": {
      "image/png": "[encoded data removed]",
      "text/plain": [
       "<Figure size 396x288 with 2 Axes>"
      ]
     },
     "metadata": {
      "needs_background": "light"
     },
     "output_type": "display_data"
    }
   ],
   "source": [
    "from sklearn.metrics import confusion_matrix\n",
    "import matplotlib.pyplot as plt\n",
    "import seaborn as sns\n",
    "from sklearn.metrics import accuracy_score, confusion_matrix, precision_recall_fscore_support\n",
    "\n",
    "\n",
    "# Creates a confusion matrix\n",
    "cm = confusion_matrix(y_test, y_pred)\n",
    "# Transform to df for easier plotting\n",
    "cm_df = pd.DataFrame(cm,\n",
    "                     index = ['Negative','Neutral', 'Positive'], \n",
    "                     columns = ['Negative','Neutral', 'Positive'])\n",
    "\n",
    "plt.figure(figsize=(5.5,4))\n",
    "sns.heatmap(cm_df, annot=True)\n",
    "plt.title('Support Vector Classification \\nAccuracy:{0:.3f}'.format(accuracy_score(y_test, y_pred)))\n",
    "plt.ylabel('True label')\n",
    "plt.xlabel('Predicted label')\n",
    "plt.show()"
   ]
  },
  {
   "cell_type": "code",
   "execution_count": 18,
   "id": "bff97827",
   "metadata": {},
   "outputs": [
    {
     "name": "stdout",
     "output_type": "stream",
     "text": [
      "Η πρόταση είναι : ['negative']\n"
     ]
    }
   ],
   "source": [
    "sample = [\"πολυ κακες οδηγιες χρησεως, επομενως δεν γνωριζεις αν το εκανες σωστα. Κακες οδηγιες ερμηνειας του αποτελεσματος. Στα σκιτσα η εικονα διαφερει πολυ απο την πραγματικη, οποτε δεν μπορεις να εισαι σιγουρος αν ερμηνευεις σωστα το αποτελεσμα. Εμενα μου εβγαλε μια πολυ χονδρη γραμμη στο C και μια ποΛυ λεπτη και αδιορατη στο Τ (στις οδηγιες για την ερμηνεια ολες οι γραμμες των σκιτσων ειναι λεπτες.). να το παρω σαν θετικο η να το παρω ως αρνητικο? Τωρα με εβαλε σε ανησυχια και πρεπει να κανω μοριακο. Μη αξιοπιστο λοιπον\"]\n",
    "sample = tfidf.transform(sample).toarray()\n",
    "sentiment = svm.predict(sample)\n",
    "print('Η πρόταση είναι',\":\",sentiment)"
   ]
  },
  {
   "cell_type": "code",
   "execution_count": 19,
   "id": "e9e7e548",
   "metadata": {},
   "outputs": [],
   "source": [
    "import pickle\n",
    "pickle.dump(svm, open('models/model_svm.pickle', 'wb'))\n",
    "pickle.dump(tfidf, open('models/model_tfidf.pickle', 'wb'))"
   ]
  },
  {
   "cell_type": "markdown",
   "id": "d5e6bfd1",
   "metadata": {},
   "source": [
    "### LinearSVC with OneVsRestClassifier"
   ]
  },
  {
   "cell_type": "code",
   "execution_count": 20,
   "id": "94d957bd",
   "metadata": {},
   "outputs": [],
   "source": [
    "from sklearn.multiclass import OneVsRestClassifier\n",
    "from sklearn.svm import SVC\n",
    "\n",
    "ovsrc = OneVsRestClassifier(LinearSVC(random_state=0)).fit(X, y)"
   ]
  },
  {
   "cell_type": "code",
   "execution_count": 21,
   "id": "f789e622",
   "metadata": {},
   "outputs": [],
   "source": [
    "linear_ovsrc = ovsrc.predict(X_test)"
   ]
  },
  {
   "cell_type": "code",
   "execution_count": 22,
   "id": "860a2ece",
   "metadata": {
    "scrolled": true
   },
   "outputs": [
    {
     "name": "stdout",
     "output_type": "stream",
     "text": [
      "              precision    recall  f1-score   support\n",
      "\n",
      "    negative       0.95      0.95      0.95      3265\n",
      "     neutral       0.95      0.97      0.96      2992\n",
      "    positive       0.95      0.94      0.95      2812\n",
      "\n",
      "    accuracy                           0.95      9069\n",
      "   macro avg       0.95      0.95      0.95      9069\n",
      "weighted avg       0.95      0.95      0.95      9069\n",
      "\n"
     ]
    }
   ],
   "source": [
    "accuracy_score(y_test, linear_ovsrc, normalize=True)\n",
    "print(classification_report(y_test, linear_ovsrc))"
   ]
  },
  {
   "cell_type": "code",
   "execution_count": 23,
   "id": "a55134d9",
   "metadata": {},
   "outputs": [
    {
     "data": {
      "image/png": "[encoded data removed]",
      "text/plain": [
       "<Figure size 396x288 with 2 Axes>"
      ]
     },
     "metadata": {
      "needs_background": "light"
     },
     "output_type": "display_data"
    }
   ],
   "source": [
    "from sklearn.metrics import confusion_matrix\n",
    "import matplotlib.pyplot as plt\n",
    "import seaborn as sns\n",
    "from sklearn.metrics import accuracy_score, confusion_matrix, precision_recall_fscore_support\n",
    "\n",
    "\n",
    "# Creates a confusion matrix\n",
    "cm = confusion_matrix(y_test, linear_ovsrc)\n",
    "# Transform to df for easier plotting\n",
    "cm_df = pd.DataFrame(cm,\n",
    "                     index = ['Negative','Neutral', 'Positive'], \n",
    "                     columns = ['Negative','Neutral', 'Positive'])\n",
    "\n",
    "plt.figure(figsize=(5.5,4))\n",
    "sns.heatmap(cm_df, annot=True)\n",
    "plt.title('Support Vector Classification \\nAccuracy:{0:.3f}'.format(accuracy_score(y_test, linear_ovsrc)))\n",
    "plt.ylabel('True label')\n",
    "plt.xlabel('Predicted label')\n",
    "plt.show()"
   ]
  },
  {
   "cell_type": "code",
   "execution_count": 24,
   "id": "6bfe30bc",
   "metadata": {
    "scrolled": false
   },
   "outputs": [
    {
     "name": "stdout",
     "output_type": "stream",
     "text": [
      "Η πρόταση είναι : ['negative']\n"
     ]
    }
   ],
   "source": [
    "sample = [\"Πήρα το τεστ για το σπίτι να το εχω άμεσα διαθεσιμο. Έχω ηδη υποβληθεί σε 3 τεστ (λόγω εργασίας σε νοσοκομείο) τα οποία έδειξαν ακριβώς τα ίδια αποτελέσμα τα με τη μεθοδο RT-PCR και τα υπόλοιπα rapid test που κάνω εκεί.\"]\n",
    "sample = tfidf.transform(sample).toarray()\n",
    "sentiment = ovsrc.predict(sample)\n",
    "print('Η πρόταση είναι',\":\",sentiment)"
   ]
  },
  {
   "cell_type": "code",
   "execution_count": 25,
   "id": "974ad892",
   "metadata": {},
   "outputs": [],
   "source": [
    "pickle.dump(ovsrc, open('models/OneVsRestClassifier.pickle', 'wb'))"
   ]
  },
  {
   "cell_type": "markdown",
   "id": "44d89804",
   "metadata": {},
   "source": [
    "### Logistic Regression Classifier"
   ]
  },
  {
   "cell_type": "code",
   "execution_count": 26,
   "id": "32474e96",
   "metadata": {},
   "outputs": [
    {
     "name": "stderr",
     "output_type": "stream",
     "text": [
      "/home/mina/.local/lib/python3.8/site-packages/sklearn/linear_model/_logistic.py:763: ConvergenceWarning: lbfgs failed to converge (status=1):\n",
      "STOP: TOTAL NO. of ITERATIONS REACHED LIMIT.\n",
      "\n",
      "Increase the number of iterations (max_iter) or scale the data as shown in:\n",
      "    https://scikit-learn.org/stable/modules/preprocessing.html\n",
      "Please also refer to the documentation for alternative solver options:\n",
      "    https://scikit-learn.org/stable/modules/linear_model.html#logistic-regression\n",
      "  n_iter_i = _check_optimize_result(\n"
     ]
    },
    {
     "data": {
      "text/plain": [
       "LogisticRegression(multi_class='multinomial')"
      ]
     },
     "execution_count": 26,
     "metadata": {},
     "output_type": "execute_result"
    }
   ],
   "source": [
    "# Training the classifier\n",
    "from sklearn.linear_model import LogisticRegression\n",
    "classifier = LogisticRegression(multi_class='multinomial')\n",
    "\n",
    "classifier.fit(X_train, y_train)"
   ]
  },
  {
   "cell_type": "code",
   "execution_count": 27,
   "id": "223dfa48",
   "metadata": {},
   "outputs": [],
   "source": [
    "# Testing model performance\n",
    "sent_pred_log = classifier.predict(X_test)"
   ]
  },
  {
   "cell_type": "code",
   "execution_count": 28,
   "id": "dd02ea1c",
   "metadata": {},
   "outputs": [
    {
     "data": {
      "text/plain": [
       "0.7401036497960084"
      ]
     },
     "execution_count": 28,
     "metadata": {},
     "output_type": "execute_result"
    }
   ],
   "source": [
    "accuracy_score(y_test, sent_pred_log, normalize=True)"
   ]
  },
  {
   "cell_type": "code",
   "execution_count": 29,
   "id": "06668855",
   "metadata": {},
   "outputs": [
    {
     "name": "stdout",
     "output_type": "stream",
     "text": [
      "              precision    recall  f1-score   support\n",
      "\n",
      "    negative       0.73      0.76      0.74      3265\n",
      "     neutral       0.73      0.79      0.76      2992\n",
      "    positive       0.76      0.67      0.71      2812\n",
      "\n",
      "    accuracy                           0.74      9069\n",
      "   macro avg       0.74      0.74      0.74      9069\n",
      "weighted avg       0.74      0.74      0.74      9069\n",
      "\n"
     ]
    }
   ],
   "source": [
    "print(classification_report(y_test, sent_pred_log))"
   ]
  },
  {
   "cell_type": "code",
   "execution_count": 30,
   "id": "b2484fcf",
   "metadata": {},
   "outputs": [
    {
     "name": "stdout",
     "output_type": "stream",
     "text": [
      "Η πρόταση είναι : ['positive']\n"
     ]
    }
   ],
   "source": [
    "sample = [\"ΤΕΛΕΙΑ ΜΕΡΑ ΣΗΜΕΡΑ\"]\n",
    "sample = tfidf.transform(sample).toarray()\n",
    "sentiment = classifier.predict(sample)\n",
    "print('Η πρόταση είναι',\":\",sentiment)"
   ]
  },
  {
   "cell_type": "code",
   "execution_count": 31,
   "id": "1a13f1e9",
   "metadata": {},
   "outputs": [
    {
     "name": "stdout",
     "output_type": "stream",
     "text": [
      "              precision    recall  f1-score   support\n",
      "\n",
      "    negative       0.73      0.76      0.74      3265\n",
      "     neutral       0.73      0.79      0.76      2992\n",
      "    positive       0.76      0.67      0.71      2812\n",
      "\n",
      "    accuracy                           0.74      9069\n",
      "   macro avg       0.74      0.74      0.74      9069\n",
      "weighted avg       0.74      0.74      0.74      9069\n",
      "\n"
     ]
    }
   ],
   "source": [
    "print(classification_report(y_test, sent_pred_log))"
   ]
  },
  {
   "cell_type": "code",
   "execution_count": 32,
   "id": "8cfc0a67",
   "metadata": {},
   "outputs": [
    {
     "data": {
      "image/png": "[encoded data removed]",
      "text/plain": [
       "<Figure size 396x288 with 2 Axes>"
      ]
     },
     "metadata": {
      "needs_background": "light"
     },
     "output_type": "display_data"
    }
   ],
   "source": [
    "# Creates a confusion matrix\n",
    "cm = confusion_matrix(y_test, sent_pred_log)\n",
    "# Transform to df for easier plotting\n",
    "cm_df = pd.DataFrame(cm,\n",
    "                     index = ['Negative','Neutral', 'Positive'], \n",
    "                     columns = ['Negative','Neutral', 'Positive'])\n",
    "\n",
    "plt.figure(figsize=(5.5,4))\n",
    "sns.heatmap(cm_df, annot=True)\n",
    "plt.title('Logistic Regression Classification \\nAccuracy:{0:.3f}'.format(accuracy_score(y_test, sent_pred_log)))\n",
    "plt.ylabel('True label')\n",
    "plt.xlabel('Predicted label')\n",
    "plt.show()"
   ]
  },
  {
   "cell_type": "markdown",
   "id": "ae25559f",
   "metadata": {},
   "source": [
    "### Random Forest classifier"
   ]
  },
  {
   "cell_type": "code",
   "execution_count": 33,
   "id": "3ac7b2ac",
   "metadata": {},
   "outputs": [],
   "source": [
    "from sklearn.ensemble import RandomForestClassifier\n",
    "from sklearn.model_selection import train_test_split, GridSearchCV\n",
    "from sklearn.model_selection import cross_val_score"
   ]
  },
  {
   "cell_type": "code",
   "execution_count": 34,
   "id": "d30a58db",
   "metadata": {},
   "outputs": [],
   "source": [
    "rfc = RandomForestClassifier(n_estimators= 200, max_depth=None).fit(X_train,y_train)"
   ]
  },
  {
   "cell_type": "code",
   "execution_count": 35,
   "id": "70fbea54",
   "metadata": {},
   "outputs": [],
   "source": [
    "sent_pred_random_forest = rfc.predict(X_test)"
   ]
  },
  {
   "cell_type": "code",
   "execution_count": 36,
   "id": "9d389fef",
   "metadata": {},
   "outputs": [
    {
     "data": {
      "text/plain": [
       "0.7705369941559158"
      ]
     },
     "execution_count": 36,
     "metadata": {},
     "output_type": "execute_result"
    }
   ],
   "source": [
    "accuracy_score(y_test, sent_pred_random_forest, normalize=True)"
   ]
  },
  {
   "cell_type": "code",
   "execution_count": 37,
   "id": "b78d4791",
   "metadata": {},
   "outputs": [
    {
     "name": "stdout",
     "output_type": "stream",
     "text": [
      "              precision    recall  f1-score   support\n",
      "\n",
      "    negative       0.74      0.78      0.76      3265\n",
      "     neutral       0.76      0.86      0.81      2992\n",
      "    positive       0.84      0.66      0.74      2812\n",
      "\n",
      "    accuracy                           0.77      9069\n",
      "   macro avg       0.78      0.77      0.77      9069\n",
      "weighted avg       0.78      0.77      0.77      9069\n",
      "\n"
     ]
    }
   ],
   "source": [
    "print(classification_report(y_test, sent_pred_random_forest))"
   ]
  },
  {
   "cell_type": "code",
   "execution_count": 38,
   "id": "9ce28a7e",
   "metadata": {},
   "outputs": [
    {
     "data": {
      "image/png": "[encoded data removed]",
      "text/plain": [
       "<Figure size 396x288 with 2 Axes>"
      ]
     },
     "metadata": {
      "needs_background": "light"
     },
     "output_type": "display_data"
    }
   ],
   "source": [
    "# Creates a confusion matrix\n",
    "cm = confusion_matrix(y_test, sent_pred_random_forest)\n",
    "# Transform to df for easier plotting\n",
    "cm_df = pd.DataFrame(cm,\n",
    "                     index = ['Negative','Neutral', 'Positive'], \n",
    "                     columns = ['Negative','Neutral', 'Positive'])\n",
    "\n",
    "plt.figure(figsize=(5.5,4))\n",
    "sns.heatmap(cm_df, annot=True)\n",
    "plt.ylabel('True label')\n",
    "plt.xlabel('Predicted label')\n",
    "plt.show()"
   ]
  },
  {
   "cell_type": "code",
   "execution_count": 39,
   "id": "a7046930",
   "metadata": {},
   "outputs": [
    {
     "name": "stdout",
     "output_type": "stream",
     "text": [
      "Η πρόταση είναι : ['positive']\n"
     ]
    }
   ],
   "source": [
    "sample = [\"Tι ΟΜΟΡΦΗ μέρα που έχει σήμερα. Θα πάω για ποδήλατο\"]\n",
    "sample = tfidf.transform(sample).toarray()\n",
    "sentiment = rfc.predict(sample)\n",
    "print('Η πρόταση είναι',\":\",sentiment)"
   ]
  },
  {
   "cell_type": "markdown",
   "id": "aca22b00",
   "metadata": {},
   "source": [
    "### Random Forest with OneVsRestClassifier"
   ]
  },
  {
   "cell_type": "code",
   "execution_count": 40,
   "id": "64534182",
   "metadata": {},
   "outputs": [],
   "source": [
    "from sklearn.multiclass import OneVsRestClassifier\n",
    "from sklearn.svm import SVC\n",
    "\n",
    "ovsrc = OneVsRestClassifier(RandomForestClassifier(random_state=0)).fit(X, y)"
   ]
  },
  {
   "cell_type": "code",
   "execution_count": 41,
   "id": "b1adfb8d",
   "metadata": {},
   "outputs": [],
   "source": [
    "rf_ovsrest = ovsrc.predict(X_test)"
   ]
  },
  {
   "cell_type": "code",
   "execution_count": 42,
   "id": "9945821a",
   "metadata": {},
   "outputs": [
    {
     "data": {
      "text/plain": [
       "0.9803726982026685"
      ]
     },
     "execution_count": 42,
     "metadata": {},
     "output_type": "execute_result"
    }
   ],
   "source": [
    "accuracy_score(y_test, rf_ovsrest, normalize=True)"
   ]
  },
  {
   "cell_type": "code",
   "execution_count": 43,
   "id": "911841d6",
   "metadata": {},
   "outputs": [
    {
     "name": "stdout",
     "output_type": "stream",
     "text": [
      "              precision    recall  f1-score   support\n",
      "\n",
      "    negative       0.98      0.98      0.98      3265\n",
      "     neutral       0.98      0.99      0.98      2992\n",
      "    positive       0.98      0.98      0.98      2812\n",
      "\n",
      "    accuracy                           0.98      9069\n",
      "   macro avg       0.98      0.98      0.98      9069\n",
      "weighted avg       0.98      0.98      0.98      9069\n",
      "\n"
     ]
    }
   ],
   "source": [
    "print(classification_report(y_test, rf_ovsrest))"
   ]
  },
  {
   "cell_type": "code",
   "execution_count": 44,
   "id": "3fc4163d",
   "metadata": {},
   "outputs": [
    {
     "data": {
      "image/png": "[encoded data removed]",
      "text/plain": [
       "<Figure size 396x288 with 2 Axes>"
      ]
     },
     "metadata": {
      "needs_background": "light"
     },
     "output_type": "display_data"
    }
   ],
   "source": [
    "# Creates a confusion matrix\n",
    "cm = confusion_matrix(y_test, rf_ovsrest)\n",
    "# Transform to df for easier plotting\n",
    "cm_df = pd.DataFrame(cm,\n",
    "                     index = ['Negative','Neutral', 'Positive'], \n",
    "                     columns = ['Negative','Neutral', 'Positive'])\n",
    "\n",
    "plt.figure(figsize=(5.5,4))\n",
    "sns.heatmap(cm_df, annot=True)\n",
    "plt.ylabel('True label')\n",
    "plt.xlabel('Predicted label')\n",
    "plt.show()"
   ]
  },
  {
   "cell_type": "code",
   "execution_count": 45,
   "id": "db985fde",
   "metadata": {},
   "outputs": [
    {
     "name": "stdout",
     "output_type": "stream",
     "text": [
      "Η πρόταση είναι : ['positive']\n"
     ]
    }
   ],
   "source": [
    "sample = [\"Tι ΟΜΟΡΦΗ μέρα που έχει σήμερα. Θα πάω για ποδήλατο\"]\n",
    "sample = tfidf.transform(sample).toarray()\n",
    "sentiment = ovsrc.predict(sample)\n",
    "print('Η πρόταση είναι',\":\",sentiment)"
   ]
  },
  {
   "cell_type": "markdown",
   "id": "5362e7ca",
   "metadata": {},
   "source": [
    "### Multinomial Naive Bayes"
   ]
  },
  {
   "cell_type": "code",
   "execution_count": 46,
   "id": "ff23e4b6",
   "metadata": {},
   "outputs": [
    {
     "data": {
      "text/plain": [
       "MultinomialNB()"
      ]
     },
     "execution_count": 46,
     "metadata": {},
     "output_type": "execute_result"
    }
   ],
   "source": [
    "from sklearn.naive_bayes import MultinomialNB\n",
    "\n",
    "clf = MultinomialNB()\n",
    "clf.fit(X_train, y_train)"
   ]
  },
  {
   "cell_type": "code",
   "execution_count": 47,
   "id": "184d3302",
   "metadata": {},
   "outputs": [],
   "source": [
    "from sklearn.naive_bayes import MultinomialNB"
   ]
  },
  {
   "cell_type": "code",
   "execution_count": 48,
   "id": "7e7814b0",
   "metadata": {},
   "outputs": [],
   "source": [
    "sent_pred_bayes = clf.predict(X_test)"
   ]
  },
  {
   "cell_type": "code",
   "execution_count": 49,
   "id": "564b2906",
   "metadata": {},
   "outputs": [
    {
     "data": {
      "text/plain": [
       "0.686735031425736"
      ]
     },
     "execution_count": 49,
     "metadata": {},
     "output_type": "execute_result"
    }
   ],
   "source": [
    "accuracy_score(y_test, sent_pred_bayes, normalize=True)"
   ]
  },
  {
   "cell_type": "code",
   "execution_count": 50,
   "id": "d1c9fe4b",
   "metadata": {},
   "outputs": [
    {
     "name": "stdout",
     "output_type": "stream",
     "text": [
      "              precision    recall  f1-score   support\n",
      "\n",
      "    negative       0.61      0.84      0.71      3265\n",
      "     neutral       0.76      0.61      0.68      2992\n",
      "    positive       0.76      0.59      0.66      2812\n",
      "\n",
      "    accuracy                           0.69      9069\n",
      "   macro avg       0.71      0.68      0.68      9069\n",
      "weighted avg       0.71      0.69      0.68      9069\n",
      "\n"
     ]
    }
   ],
   "source": [
    "print(classification_report(y_test, sent_pred_bayes))"
   ]
  },
  {
   "cell_type": "code",
   "execution_count": 51,
   "id": "729d2b03",
   "metadata": {},
   "outputs": [
    {
     "data": {
      "image/png": "[encoded data removed]",
      "text/plain": [
       "<Figure size 396x288 with 2 Axes>"
      ]
     },
     "metadata": {
      "needs_background": "light"
     },
     "output_type": "display_data"
    }
   ],
   "source": [
    "from sklearn.metrics import confusion_matrix\n",
    "\n",
    "# Creates a confusion matrix\n",
    "cm = confusion_matrix(y_test, sent_pred_bayes)\n",
    "# Transform to df for easier plotting\n",
    "cm_df = pd.DataFrame(cm,\n",
    "                     index = ['Negative','Neutral', 'Positive'], \n",
    "                     columns = ['Negative','Neutral', 'Positive'])\n",
    "\n",
    "plt.figure(figsize=(5.5,4))\n",
    "sns.heatmap(cm_df, annot=True)\n",
    "plt.title('Nayve Bayes \\nAccuracy:{0:.3f}'.format(accuracy_score(y_test, sent_pred_bayes)))\n",
    "plt.ylabel('True label')\n",
    "plt.xlabel('Predicted label')\n",
    "plt.show()"
   ]
  },
  {
   "cell_type": "code",
   "execution_count": 52,
   "id": "63b42a1f",
   "metadata": {},
   "outputs": [
    {
     "name": "stdout",
     "output_type": "stream",
     "text": [
      "Η πρόταση είναι : ['positive']\n"
     ]
    }
   ],
   "source": [
    "sample = [\"τελεια μερα\"]\n",
    "sample = tfidf.transform(sample).toarray()\n",
    "sentiment = clf.predict(sample)\n",
    "print('Η πρόταση είναι',\":\",sentiment)"
   ]
  }
 ],
 "metadata": {
  "kernelspec": {
   "display_name": "Python 3 (ipykernel)",
   "language": "python",
   "name": "python3"
  },
  "language_info": {
   "codemirror_mode": {
    "name": "ipython",
    "version": 3
   },
   "file_extension": ".py",
   "mimetype": "text/x-python",
   "name": "python",
   "nbconvert_exporter": "python",
   "pygments_lexer": "ipython3",
   "version": "3.8.10"
  }
 },
 "nbformat": 4,
 "nbformat_minor": 5
}
